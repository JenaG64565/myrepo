{
 "cells": [
  {
   "cell_type": "markdown",
   "metadata": {},
   "source": [
    "# Project 3: Medical School Acceptance Information\n",
    "\n",
    "# Jena Georgopulos, jg64565"
   ]
  },
  {
   "cell_type": "markdown",
   "metadata": {},
   "source": [
    "This project will analyze a dataset titled medschool that reports the acceptance status and other information for 55 students that applied to medical school after attending a liberal arts college in the midwest. The dataset includes the following variables: acceptance status of the applicant coded as a categorical variable with A= 'accepted' and D= 'denied' ('Accept'), acceptance status of the applicant coded as a binary numeric variable in which 1 = 'accepted' and 0 = 'denied' ('Acceptance'), gender of the applicant ('sex'), the applicant's overall GPA ('GPA'), the applicant's GPA for all bio/chem/physics/math classes taken ('BCPM'), the applicant's total score on the MCAT exam ('MCAT'), the applicant's score for the verbal reasoning section of the MCAT ('VR'), the applicant's score for the physical sciences section of the MCAT ('PS'), the applicant's score for the writing section of the MCAT ('WS'), the applicant's score for the biological sciences section of the MCAT ('BS'), and the number of medical schools that the applicant applied to ('Apps').  "
   ]
  },
  {
   "cell_type": "code",
   "execution_count": 1,
   "metadata": {},
   "outputs": [],
   "source": [
    "# IMPORTANT\n",
    "# Running this chunk lets you have multiple outputs from a single chunk; run it first!\n",
    "from IPython.core.interactiveshell import InteractiveShell\n",
    "InteractiveShell.ast_node_interactivity = \"all\""
   ]
  },
  {
   "cell_type": "code",
   "execution_count": 12,
   "metadata": {},
   "outputs": [],
   "source": [
    "# Import packages \n",
    "import pandas as pd\n",
    "import numpy as np\n",
    "import seaborn as sns\n",
    "import matplotlib.pyplot as plt"
   ]
  },
  {
   "cell_type": "code",
   "execution_count": 3,
   "metadata": {},
   "outputs": [],
   "source": [
    "# Import dataset for medical school acceptance info as csv and title it \"medschool\"\n",
    "medschool = pd.read_csv(\"https://vincentarelbundock.github.io/Rdatasets/csv/Stat2Data/MedGPA.csv\")"
   ]
  },
  {
   "cell_type": "code",
   "execution_count": 4,
   "metadata": {},
   "outputs": [
    {
     "data": {
      "text/html": [
       "<div>\n",
       "<style scoped>\n",
       "    .dataframe tbody tr th:only-of-type {\n",
       "        vertical-align: middle;\n",
       "    }\n",
       "\n",
       "    .dataframe tbody tr th {\n",
       "        vertical-align: top;\n",
       "    }\n",
       "\n",
       "    .dataframe thead th {\n",
       "        text-align: right;\n",
       "    }\n",
       "</style>\n",
       "<table border=\"1\" class=\"dataframe\">\n",
       "  <thead>\n",
       "    <tr style=\"text-align: right;\">\n",
       "      <th></th>\n",
       "      <th>Unnamed: 0</th>\n",
       "      <th>Accept</th>\n",
       "      <th>Acceptance</th>\n",
       "      <th>Sex</th>\n",
       "      <th>BCPM</th>\n",
       "      <th>GPA</th>\n",
       "      <th>VR</th>\n",
       "      <th>PS</th>\n",
       "      <th>WS</th>\n",
       "      <th>BS</th>\n",
       "      <th>MCAT</th>\n",
       "      <th>Apps</th>\n",
       "    </tr>\n",
       "  </thead>\n",
       "  <tbody>\n",
       "    <tr>\n",
       "      <th>0</th>\n",
       "      <td>1</td>\n",
       "      <td>D</td>\n",
       "      <td>0</td>\n",
       "      <td>F</td>\n",
       "      <td>3.59</td>\n",
       "      <td>3.62</td>\n",
       "      <td>11</td>\n",
       "      <td>9</td>\n",
       "      <td>9.0</td>\n",
       "      <td>9</td>\n",
       "      <td>38</td>\n",
       "      <td>5</td>\n",
       "    </tr>\n",
       "    <tr>\n",
       "      <th>1</th>\n",
       "      <td>2</td>\n",
       "      <td>A</td>\n",
       "      <td>1</td>\n",
       "      <td>M</td>\n",
       "      <td>3.75</td>\n",
       "      <td>3.84</td>\n",
       "      <td>12</td>\n",
       "      <td>13</td>\n",
       "      <td>8.0</td>\n",
       "      <td>12</td>\n",
       "      <td>45</td>\n",
       "      <td>3</td>\n",
       "    </tr>\n",
       "    <tr>\n",
       "      <th>2</th>\n",
       "      <td>3</td>\n",
       "      <td>A</td>\n",
       "      <td>1</td>\n",
       "      <td>F</td>\n",
       "      <td>3.24</td>\n",
       "      <td>3.23</td>\n",
       "      <td>9</td>\n",
       "      <td>10</td>\n",
       "      <td>5.0</td>\n",
       "      <td>9</td>\n",
       "      <td>33</td>\n",
       "      <td>19</td>\n",
       "    </tr>\n",
       "    <tr>\n",
       "      <th>3</th>\n",
       "      <td>4</td>\n",
       "      <td>A</td>\n",
       "      <td>1</td>\n",
       "      <td>F</td>\n",
       "      <td>3.74</td>\n",
       "      <td>3.69</td>\n",
       "      <td>12</td>\n",
       "      <td>11</td>\n",
       "      <td>7.0</td>\n",
       "      <td>10</td>\n",
       "      <td>40</td>\n",
       "      <td>5</td>\n",
       "    </tr>\n",
       "    <tr>\n",
       "      <th>4</th>\n",
       "      <td>5</td>\n",
       "      <td>A</td>\n",
       "      <td>1</td>\n",
       "      <td>F</td>\n",
       "      <td>3.53</td>\n",
       "      <td>3.38</td>\n",
       "      <td>9</td>\n",
       "      <td>11</td>\n",
       "      <td>4.0</td>\n",
       "      <td>11</td>\n",
       "      <td>35</td>\n",
       "      <td>11</td>\n",
       "    </tr>\n",
       "  </tbody>\n",
       "</table>\n",
       "</div>"
      ],
      "text/plain": [
       "   Unnamed: 0 Accept  Acceptance Sex  BCPM   GPA  VR  PS   WS  BS  MCAT  Apps\n",
       "0           1      D           0   F  3.59  3.62  11   9  9.0   9    38     5\n",
       "1           2      A           1   M  3.75  3.84  12  13  8.0  12    45     3\n",
       "2           3      A           1   F  3.24  3.23   9  10  5.0   9    33    19\n",
       "3           4      A           1   F  3.74  3.69  12  11  7.0  10    40     5\n",
       "4           5      A           1   F  3.53  3.38   9  11  4.0  11    35    11"
      ]
     },
     "execution_count": 4,
     "metadata": {},
     "output_type": "execute_result"
    }
   ],
   "source": [
    "# Take a look at the first 5 rows of the dataset medschool\n",
    "medschool.head(5)"
   ]
  },
  {
   "cell_type": "code",
   "execution_count": 5,
   "metadata": {},
   "outputs": [
    {
     "data": {
      "text/html": [
       "<div>\n",
       "<style scoped>\n",
       "    .dataframe tbody tr th:only-of-type {\n",
       "        vertical-align: middle;\n",
       "    }\n",
       "\n",
       "    .dataframe tbody tr th {\n",
       "        vertical-align: top;\n",
       "    }\n",
       "\n",
       "    .dataframe thead th {\n",
       "        text-align: right;\n",
       "    }\n",
       "</style>\n",
       "<table border=\"1\" class=\"dataframe\">\n",
       "  <thead>\n",
       "    <tr style=\"text-align: right;\">\n",
       "      <th></th>\n",
       "      <th>Accept</th>\n",
       "      <th>Acceptance</th>\n",
       "      <th>Sex</th>\n",
       "      <th>BCPM</th>\n",
       "      <th>GPA</th>\n",
       "      <th>VR</th>\n",
       "      <th>PS</th>\n",
       "      <th>WS</th>\n",
       "      <th>BS</th>\n",
       "      <th>MCAT</th>\n",
       "      <th>Apps</th>\n",
       "    </tr>\n",
       "  </thead>\n",
       "  <tbody>\n",
       "    <tr>\n",
       "      <th>0</th>\n",
       "      <td>D</td>\n",
       "      <td>0</td>\n",
       "      <td>F</td>\n",
       "      <td>3.59</td>\n",
       "      <td>3.62</td>\n",
       "      <td>11</td>\n",
       "      <td>9</td>\n",
       "      <td>9.0</td>\n",
       "      <td>9</td>\n",
       "      <td>38</td>\n",
       "      <td>5</td>\n",
       "    </tr>\n",
       "    <tr>\n",
       "      <th>1</th>\n",
       "      <td>A</td>\n",
       "      <td>1</td>\n",
       "      <td>M</td>\n",
       "      <td>3.75</td>\n",
       "      <td>3.84</td>\n",
       "      <td>12</td>\n",
       "      <td>13</td>\n",
       "      <td>8.0</td>\n",
       "      <td>12</td>\n",
       "      <td>45</td>\n",
       "      <td>3</td>\n",
       "    </tr>\n",
       "    <tr>\n",
       "      <th>2</th>\n",
       "      <td>A</td>\n",
       "      <td>1</td>\n",
       "      <td>F</td>\n",
       "      <td>3.24</td>\n",
       "      <td>3.23</td>\n",
       "      <td>9</td>\n",
       "      <td>10</td>\n",
       "      <td>5.0</td>\n",
       "      <td>9</td>\n",
       "      <td>33</td>\n",
       "      <td>19</td>\n",
       "    </tr>\n",
       "    <tr>\n",
       "      <th>3</th>\n",
       "      <td>A</td>\n",
       "      <td>1</td>\n",
       "      <td>F</td>\n",
       "      <td>3.74</td>\n",
       "      <td>3.69</td>\n",
       "      <td>12</td>\n",
       "      <td>11</td>\n",
       "      <td>7.0</td>\n",
       "      <td>10</td>\n",
       "      <td>40</td>\n",
       "      <td>5</td>\n",
       "    </tr>\n",
       "    <tr>\n",
       "      <th>4</th>\n",
       "      <td>A</td>\n",
       "      <td>1</td>\n",
       "      <td>F</td>\n",
       "      <td>3.53</td>\n",
       "      <td>3.38</td>\n",
       "      <td>9</td>\n",
       "      <td>11</td>\n",
       "      <td>4.0</td>\n",
       "      <td>11</td>\n",
       "      <td>35</td>\n",
       "      <td>11</td>\n",
       "    </tr>\n",
       "  </tbody>\n",
       "</table>\n",
       "</div>"
      ],
      "text/plain": [
       "  Accept  Acceptance Sex  BCPM   GPA  VR  PS   WS  BS  MCAT  Apps\n",
       "0      D           0   F  3.59  3.62  11   9  9.0   9    38     5\n",
       "1      A           1   M  3.75  3.84  12  13  8.0  12    45     3\n",
       "2      A           1   F  3.24  3.23   9  10  5.0   9    33    19\n",
       "3      A           1   F  3.74  3.69  12  11  7.0  10    40     5\n",
       "4      A           1   F  3.53  3.38   9  11  4.0  11    35    11"
      ]
     },
     "execution_count": 5,
     "metadata": {},
     "output_type": "execute_result"
    }
   ],
   "source": [
    "# Remove variable \"Unnamed: 0\" from the medschool dataset then look at the first 5 rows again\n",
    "del medschool['Unnamed: 0']\n",
    "medschool.head(5)"
   ]
  },
  {
   "cell_type": "code",
   "execution_count": 7,
   "metadata": {},
   "outputs": [
    {
     "name": "stdout",
     "output_type": "stream",
     "text": [
      "<class 'pandas.core.frame.DataFrame'>\n",
      "RangeIndex: 55 entries, 0 to 54\n",
      "Data columns (total 11 columns):\n",
      "Accept        55 non-null object\n",
      "Acceptance    55 non-null int64\n",
      "Sex           55 non-null object\n",
      "BCPM          55 non-null float64\n",
      "GPA           55 non-null float64\n",
      "VR            55 non-null int64\n",
      "PS            55 non-null int64\n",
      "WS            54 non-null float64\n",
      "BS            55 non-null int64\n",
      "MCAT          55 non-null int64\n",
      "Apps          55 non-null int64\n",
      "dtypes: float64(3), int64(6), object(2)\n",
      "memory usage: 4.8+ KB\n"
     ]
    }
   ],
   "source": [
    "# See some features of the dataset \n",
    "medschool.info()"
   ]
  },
  {
   "cell_type": "markdown",
   "metadata": {},
   "source": [
    "There are 11 coulmns (variables) and 55 observations in the dataset medschool. Each row in the dataset represents the data for a single medical school applicant. The variables 'Accept', and 'Sex' are categorical while the variables of 'Acceptance', 'BCPM', 'GPA', 'VR', 'PS', 'WS', 'BS', 'MCAT', and 'Apps' are numeric. The values for the numeric variables of 'Acceptance', 'VR', 'PS', 'BS', 'MCAT', and 'Apps' do not have decimals and are therefore considered to be integers. The values for the numeric variables 'BCPM', 'GPA', and 'WS' have decimals and are therefore considered to be floating point numbers. "
   ]
  },
  {
   "cell_type": "markdown",
   "metadata": {},
   "source": [
    "# EDA of Dataset Medschool"
   ]
  },
  {
   "cell_type": "code",
   "execution_count": 9,
   "metadata": {},
   "outputs": [
    {
     "data": {
      "text/html": [
       "<div>\n",
       "<style scoped>\n",
       "    .dataframe tbody tr th:only-of-type {\n",
       "        vertical-align: middle;\n",
       "    }\n",
       "\n",
       "    .dataframe tbody tr th {\n",
       "        vertical-align: top;\n",
       "    }\n",
       "\n",
       "    .dataframe thead th {\n",
       "        text-align: right;\n",
       "    }\n",
       "</style>\n",
       "<table border=\"1\" class=\"dataframe\">\n",
       "  <thead>\n",
       "    <tr style=\"text-align: right;\">\n",
       "      <th></th>\n",
       "      <th>Acceptance</th>\n",
       "      <th>BCPM</th>\n",
       "      <th>GPA</th>\n",
       "      <th>VR</th>\n",
       "      <th>PS</th>\n",
       "      <th>WS</th>\n",
       "      <th>BS</th>\n",
       "      <th>MCAT</th>\n",
       "      <th>Apps</th>\n",
       "    </tr>\n",
       "  </thead>\n",
       "  <tbody>\n",
       "    <tr>\n",
       "      <th>count</th>\n",
       "      <td>55.000000</td>\n",
       "      <td>55.000000</td>\n",
       "      <td>55.000000</td>\n",
       "      <td>55.000000</td>\n",
       "      <td>55.000000</td>\n",
       "      <td>54.000000</td>\n",
       "      <td>55.000000</td>\n",
       "      <td>55.000000</td>\n",
       "      <td>55.000000</td>\n",
       "    </tr>\n",
       "    <tr>\n",
       "      <th>mean</th>\n",
       "      <td>0.545455</td>\n",
       "      <td>3.500545</td>\n",
       "      <td>3.553273</td>\n",
       "      <td>9.763636</td>\n",
       "      <td>9.709091</td>\n",
       "      <td>7.148148</td>\n",
       "      <td>9.781818</td>\n",
       "      <td>36.272727</td>\n",
       "      <td>8.363636</td>\n",
       "    </tr>\n",
       "    <tr>\n",
       "      <th>std</th>\n",
       "      <td>0.502519</td>\n",
       "      <td>0.349992</td>\n",
       "      <td>0.286454</td>\n",
       "      <td>1.784331</td>\n",
       "      <td>1.674125</td>\n",
       "      <td>1.606677</td>\n",
       "      <td>1.535878</td>\n",
       "      <td>4.816848</td>\n",
       "      <td>4.746787</td>\n",
       "    </tr>\n",
       "    <tr>\n",
       "      <th>min</th>\n",
       "      <td>0.000000</td>\n",
       "      <td>2.410000</td>\n",
       "      <td>2.720000</td>\n",
       "      <td>6.000000</td>\n",
       "      <td>5.000000</td>\n",
       "      <td>4.000000</td>\n",
       "      <td>6.000000</td>\n",
       "      <td>18.000000</td>\n",
       "      <td>1.000000</td>\n",
       "    </tr>\n",
       "    <tr>\n",
       "      <th>25%</th>\n",
       "      <td>0.000000</td>\n",
       "      <td>3.260000</td>\n",
       "      <td>3.375000</td>\n",
       "      <td>8.000000</td>\n",
       "      <td>9.000000</td>\n",
       "      <td>6.000000</td>\n",
       "      <td>9.000000</td>\n",
       "      <td>34.000000</td>\n",
       "      <td>5.000000</td>\n",
       "    </tr>\n",
       "    <tr>\n",
       "      <th>50%</th>\n",
       "      <td>1.000000</td>\n",
       "      <td>3.530000</td>\n",
       "      <td>3.580000</td>\n",
       "      <td>10.000000</td>\n",
       "      <td>10.000000</td>\n",
       "      <td>8.000000</td>\n",
       "      <td>10.000000</td>\n",
       "      <td>36.000000</td>\n",
       "      <td>7.000000</td>\n",
       "    </tr>\n",
       "    <tr>\n",
       "      <th>75%</th>\n",
       "      <td>1.000000</td>\n",
       "      <td>3.755000</td>\n",
       "      <td>3.770000</td>\n",
       "      <td>11.000000</td>\n",
       "      <td>10.500000</td>\n",
       "      <td>8.000000</td>\n",
       "      <td>11.000000</td>\n",
       "      <td>39.000000</td>\n",
       "      <td>11.000000</td>\n",
       "    </tr>\n",
       "    <tr>\n",
       "      <th>max</th>\n",
       "      <td>1.000000</td>\n",
       "      <td>4.000000</td>\n",
       "      <td>3.970000</td>\n",
       "      <td>13.000000</td>\n",
       "      <td>14.000000</td>\n",
       "      <td>10.000000</td>\n",
       "      <td>14.000000</td>\n",
       "      <td>48.000000</td>\n",
       "      <td>24.000000</td>\n",
       "    </tr>\n",
       "  </tbody>\n",
       "</table>\n",
       "</div>"
      ],
      "text/plain": [
       "       Acceptance       BCPM        GPA         VR         PS         WS  \\\n",
       "count   55.000000  55.000000  55.000000  55.000000  55.000000  54.000000   \n",
       "mean     0.545455   3.500545   3.553273   9.763636   9.709091   7.148148   \n",
       "std      0.502519   0.349992   0.286454   1.784331   1.674125   1.606677   \n",
       "min      0.000000   2.410000   2.720000   6.000000   5.000000   4.000000   \n",
       "25%      0.000000   3.260000   3.375000   8.000000   9.000000   6.000000   \n",
       "50%      1.000000   3.530000   3.580000  10.000000  10.000000   8.000000   \n",
       "75%      1.000000   3.755000   3.770000  11.000000  10.500000   8.000000   \n",
       "max      1.000000   4.000000   3.970000  13.000000  14.000000  10.000000   \n",
       "\n",
       "              BS       MCAT       Apps  \n",
       "count  55.000000  55.000000  55.000000  \n",
       "mean    9.781818  36.272727   8.363636  \n",
       "std     1.535878   4.816848   4.746787  \n",
       "min     6.000000  18.000000   1.000000  \n",
       "25%     9.000000  34.000000   5.000000  \n",
       "50%    10.000000  36.000000   7.000000  \n",
       "75%    11.000000  39.000000  11.000000  \n",
       "max    14.000000  48.000000  24.000000  "
      ]
     },
     "execution_count": 9,
     "metadata": {},
     "output_type": "execute_result"
    }
   ],
   "source": [
    "# Look at the statistics for all numeric variables in the dataset medschool\n",
    "medschool.describe()"
   ]
  },
  {
   "cell_type": "code",
   "execution_count": 10,
   "metadata": {},
   "outputs": [
    {
     "data": {
      "text/plain": [
       "8.363636363636363"
      ]
     },
     "execution_count": 10,
     "metadata": {},
     "output_type": "execute_result"
    }
   ],
   "source": [
    "# Lets focus specifically on the mean for the numeric variable 'Apps'\n",
    "np.mean(medschool.Apps)"
   ]
  },
  {
   "cell_type": "markdown",
   "metadata": {},
   "source": [
    "The average amount of applications submitted by each student in the dataset was approximately 8 applications. "
   ]
  },
  {
   "cell_type": "code",
   "execution_count": 34,
   "metadata": {},
   "outputs": [
    {
     "data": {
      "text/plain": [
       "<matplotlib.axes._subplots.AxesSubplot at 0x7f2032691780>"
      ]
     },
     "execution_count": 34,
     "metadata": {},
     "output_type": "execute_result"
    },
    {
     "data": {
      "text/plain": [
       "Text(0.5,0,'Number of Applications Submitted')"
      ]
     },
     "execution_count": 34,
     "metadata": {},
     "output_type": "execute_result"
    },
    {
     "data": {
      "text/plain": [
       "Text(0.5,1,'Histogram of Variable Apps')"
      ]
     },
     "execution_count": 34,
     "metadata": {},
     "output_type": "execute_result"
    },
    {
     "data": {
      "image/png": "[encoded data removed]",
      "text/plain": [
       "<Figure size 432x288 with 1 Axes>"
      ]
     },
     "metadata": {
      "needs_background": "light"
     },
     "output_type": "display_data"
    }
   ],
   "source": [
    "# Create a histogram for the numeric variable 'Apps'\n",
    "medschool['Apps'].plot(kind = \"hist\")\n",
    "plt.xlabel('Number of Applications Submitted')\n",
    "plt.title('Histogram of Variable Apps')"
   ]
  },
  {
   "cell_type": "markdown",
   "metadata": {},
   "source": [
    "Pictured above is a histogram for the variable 'Apps'. This variable represents the number of medical school applications submitted by each student in the dataset. The distribution for the variable 'Apps' does not appear to be normal, and appears to skew to the right. "
   ]
  },
  {
   "cell_type": "code",
   "execution_count": 36,
   "metadata": {},
   "outputs": [
    {
     "data": {
      "text/plain": [
       "<matplotlib.axes._subplots.AxesSubplot at 0x7f20325c2d68>"
      ]
     },
     "execution_count": 36,
     "metadata": {},
     "output_type": "execute_result"
    },
    {
     "data": {
      "text/plain": [
       "Text(0.5,1,'Scatterplot of GPA vs # of Applications Submitted ')"
      ]
     },
     "execution_count": 36,
     "metadata": {},
     "output_type": "execute_result"
    },
    {
     "data": {
      "image/png": "[encoded data removed]",
      "text/plain": [
       "<Figure size 432x288 with 1 Axes>"
      ]
     },
     "metadata": {
      "needs_background": "light"
     },
     "output_type": "display_data"
    }
   ],
   "source": [
    "# Create a scatterplot to compare the number of applications submitted by students to their overall GPA\n",
    "medschool.plot.scatter(x = 'GPA', y = 'Apps')\n",
    "plt.title('Scatterplot of GPA vs # of Applications Submitted ')"
   ]
  },
  {
   "cell_type": "markdown",
   "metadata": {},
   "source": [
    "Pictured above is a scatterplot comparing the overall GPA of medical school applicants with the number of applications each student submitted. There does not appear to be a strong correlation between an applicant's overall GPA and the number of medical school applications they submit."
   ]
  },
  {
   "cell_type": "code",
   "execution_count": 25,
   "metadata": {},
   "outputs": [
    {
     "data": {
      "text/plain": [
       "A    30\n",
       "D    25\n",
       "Name: Accept, dtype: int64"
      ]
     },
     "execution_count": 25,
     "metadata": {},
     "output_type": "execute_result"
    }
   ],
   "source": [
    "# Now lets take a look at a statistic for a categorical variable\n",
    "# Lets examine the counts for the categorical variable 'Accept'\n",
    "medschool['Accept'].value_counts()"
   ]
  },
  {
   "cell_type": "markdown",
   "metadata": {},
   "source": [
    "Above are the value counts for the categorical variable 'Accept', which represents whether or not an applicant was accepted into medical school. According to the counts, out of a total of 55 applicants, 30 applicants were accepted to medical school, and 25 applicants were denied acceptance to medical school."
   ]
  },
  {
   "cell_type": "code",
   "execution_count": 33,
   "metadata": {},
   "outputs": [
    {
     "data": {
      "text/plain": [
       "<matplotlib.axes._subplots.AxesSubplot at 0x7f20326bc240>"
      ]
     },
     "execution_count": 33,
     "metadata": {},
     "output_type": "execute_result"
    },
    {
     "data": {
      "text/plain": [
       "Text(0.5,0,'Accepted or denied')"
      ]
     },
     "execution_count": 33,
     "metadata": {},
     "output_type": "execute_result"
    },
    {
     "data": {
      "text/plain": [
       "Text(0,0.5,'Number of Applicants')"
      ]
     },
     "execution_count": 33,
     "metadata": {},
     "output_type": "execute_result"
    },
    {
     "data": {
      "text/plain": [
       "Text(0.5,1,'Number of Applicants Accepted and Denied Admission to Medical School')"
      ]
     },
     "execution_count": 33,
     "metadata": {},
     "output_type": "execute_result"
    },
    {
     "data": {
      "image/png": "[encoded data removed]",
      "text/plain": [
       "<Figure size 432x288 with 1 Axes>"
      ]
     },
     "metadata": {
      "needs_background": "light"
     },
     "output_type": "display_data"
    }
   ],
   "source": [
    "# Create a barplot displaying the counts for the variable 'Accept'\n",
    "medschool['Accept'].value_counts().plot(kind = \"bar\")\n",
    "plt.xlabel('Accepted or denied')\n",
    "plt.ylabel('Number of Applicants')\n",
    "plt.title('Number of Applicants Accepted and Denied Admission to Medical School')"
   ]
  },
  {
   "cell_type": "markdown",
   "metadata": {},
   "source": [
    "The above barplot displays the number of applicants accepted and denied admittence into medical school. The blue bar represents the number of applicants accepted into medical school, which was 30 applicants. The orange bar represents the number of applicants that were denied admittance into medical school, which was 25 applicants. Therefore, it appears that more applicants were accepted into medical school than were denied admittance."
   ]
  },
  {
   "cell_type": "code",
   "execution_count": 39,
   "metadata": {},
   "outputs": [
    {
     "data": {
      "text/plain": [
       "(-1.1107324058910208,\n",
       " 1.1005111141255794,\n",
       " -1.1257612214975077,\n",
       " 1.111934791893022)"
      ]
     },
     "execution_count": 39,
     "metadata": {},
     "output_type": "execute_result"
    },
    {
     "data": {
      "image/png": "[encoded data removed]",
      "text/plain": [
       "<Figure size 432x288 with 1 Axes>"
      ]
     },
     "metadata": {},
     "output_type": "display_data"
    }
   ],
   "source": [
    "# Create a pie chart to display the proportions of those accepted and denied admittance to medical school\n",
    "medschool['Accept'].value_counts() \\\n",
    ".plot(kind = \"pie\") \\\n",
    ".axis('equal')"
   ]
  },
  {
   "cell_type": "markdown",
   "metadata": {},
   "source": [
    "It appears that a larger proportion of applicants were accepted into medical school than were denied. "
   ]
  }
 ],
 "metadata": {
  "kernelspec": {
   "display_name": "Python 3",
   "language": "python",
   "name": "python3"
  },
  "language_info": {
   "codemirror_mode": {
    "name": "ipython",
    "version": 3
   },
   "file_extension": ".py",
   "mimetype": "text/x-python",
   "name": "python",
   "nbconvert_exporter": "python",
   "pygments_lexer": "ipython3",
   "version": "3.6.9"
  }
 },
 "nbformat": 4,
 "nbformat_minor": 4
}
